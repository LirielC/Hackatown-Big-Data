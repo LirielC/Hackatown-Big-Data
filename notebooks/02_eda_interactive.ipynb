{
 "cells": [
  {
   "cell_type": "markdown",
   "metadata": {},
   "source": [
    "# Análise Exploratória de Dados - Hackathon Forecast 2025\n",
    "\n",
    "Este notebook contém uma análise exploratória completa dos dados de vendas com visualizações interativas para identificar padrões, sazonalidade e insights para o modelo de previsão."
   ]
  },
  {
   "cell_type": "code",
   "execution_count": null,
   "metadata": {},
   "outputs": [],
   "source": [
    "import pandas as pd\n",
    "import numpy as np\n",
    "import matplotlib.pyplot as plt\n",
    "import seaborn as sns\n",
    "import plotly.express as px\n",
    "import plotly.graph_objects as go\n",
    "from plotly.subplots import make_subplots\n",
    "import plotly.offline as pyo\n",
    "from datetime import datetime, timedelta\n",
    "import warnings\n",
    "warnings.filterwarnings('ignore')\n",
    "\n",
    "# Configurações de visualização\n",
    "plt.style.use('seaborn-v0_8')\n",
    "sns.set_palette(\"husl\")\n",
    "pyo.init_notebook_mode(connected=True)\n",
    "\n",
    "# Importar módulos do projeto\n",
    "import sys\n",
    "sys.path.append('../src')\n",
    "from data.ingestion import DataIngestion\n",
    "from data.preprocessing import DataPreprocessor\n",
    "from utils.eda_utils import EDAUtils"
   ]
  },
  {
   "cell_type": "markdown",
   "metadata": {},
   "source": [
    "## 1. Carregamento e Preparação dos Dados"
   ]
  },
  {
   "cell_type": "code",
   "execution_count": null,
   "metadata": {},
   "outputs": [],
   "source": [
    "# Carregar dados\n",
    "ingestion = DataIngestion()\n",
    "preprocessor = DataPreprocessor()\n",
    "eda_utils = EDAUtils()\n",
    "\n",
    "# Carregar dados dos arquivos Parquet\n",
    "print(\"Carregando dados...\")\n",
    "transactions_df = ingestion.load_transactions('../hackathon_2025_templates/')\n",
    "products_df = ingestion.load_products('../hackathon_2025_templates/')\n",
    "stores_df = ingestion.load_stores('../hackathon_2025_templates/')\n",
    "\n",
    "print(f\"Transações: {transactions_df.shape}\")\n",
    "print(f\"Produtos: {products_df.shape}\")\n",
    "print(f\"PDVs: {stores_df.shape}\")"
   ]
  },
  {
   "cell_type": "code",
   "execution_count": null,
   "metadata": {},
   "outputs": [],
   "source": [
    "# Pré-processamento básico\n",
    "print(\"Processando dados...\")\n",
    "transactions_clean = preprocessor.clean_transactions(transactions_df)\n",
    "weekly_sales = preprocessor.aggregate_weekly_sales(transactions_clean)\n",
    "merged_data = preprocessor.merge_master_data(weekly_sales, products_df, stores_df)\n",
    "\n",
    "print(f\"Dados processados: {merged_data.shape}\")\n",
    "print(f\"Período: {merged_data['data'].min()} a {merged_data['data'].max()}\")"
   ]
  },
  {
   "cell_type": "markdown",
   "metadata": {},
   "source": [
    "## 2. Visão Geral dos Dados"
   ]
  },
  {
   "cell_type": "code",
   "execution_count": null,
   "metadata": {},
   "outputs": [],
   "source": [
    "# Estatísticas descritivas interativas\n",
    "fig = make_subplots(\n",
    "    rows=2, cols=2,\n",
    "    subplot_titles=('Distribuição de Vendas', 'Vendas por Categoria', \n",
    "                   'Vendas por Tipo de PDV', 'Evolução Temporal'),\n",
    "    specs=[[{\"secondary_y\": False}, {\"secondary_y\": False}],\n",
    "           [{\"secondary_y\": False}, {\"secondary_y\": False}]]\n",
    ")\n",
    "\n",
    "# Distribuição de vendas\n",
    "fig.add_trace(\n",
    "    go.Histogram(x=merged_data['quantidade'], name='Quantidade', nbinsx=50),\n",
    "    row=1, col=1\n",
    ")\n",
    "\n",
    "# Vendas por categoria\n",
    "cat_sales = merged_data.groupby('categoria_produto')['quantidade'].sum().sort_values(ascending=False)\n",
    "fig.add_trace(\n",
    "    go.Bar(x=cat_sales.index, y=cat_sales.values, name='Por Categoria'),\n",
    "    row=1, col=2\n",
    ")\n",
    "\n",
    "# Vendas por tipo de PDV\n",
    "pdv_sales = merged_data.groupby('tipo_pdv')['quantidade'].sum()\n",
    "fig.add_trace(\n",
    "    go.Bar(x=pdv_sales.index, y=pdv_sales.values, name='Por Tipo PDV'),\n",
    "    row=2, col=1\n",
    ")\n",
    "\n",
    "# Evolução temporal\n",
    "temporal_sales = merged_data.groupby('data')['quantidade'].sum()\n",
    "fig.add_trace(\n",
    "    go.Scatter(x=temporal_sales.index, y=temporal_sales.values, \n",
    "              mode='lines', name='Vendas Totais'),\n",
    "    row=2, col=2\n",
    ")\n",
    "\n",
    "fig.update_layout(height=800, title_text=\"Visão Geral dos Dados de Vendas\")\n",
    "fig.show()"
   ]
  },
  {
   "cell_type": "markdown",
   "metadata": {},
   "source": [
    "## 3. Análise de Sazonalidade"
   ]
  },
  {
   "cell_type": "code",
   "execution_count": null,
   "metadata": {},
   "outputs": [],
   "source": [
    "# Análise de sazonalidade por semana do ano\n",
    "merged_data['semana_ano'] = merged_data['data'].dt.isocalendar().week\n",
    "merged_data['mes'] = merged_data['data'].dt.month\n",
    "merged_data['dia_semana'] = merged_data['data'].dt.dayofweek\n",
    "\n",
    "# Sazonalidade semanal\n",
    "weekly_pattern = merged_data.groupby('semana_ano')['quantidade'].agg(['mean', 'std']).reset_index()\n",
    "\n",
    "fig = go.Figure()\n",
    "fig.add_trace(go.Scatter(\n",
    "    x=weekly_pattern['semana_ano'],\n",
    "    y=weekly_pattern['mean'],\n",
    "    mode='lines+markers',\n",
    "    name='Média Semanal',\n",
    "    line=dict(color='blue')\n",
    "))\n",
    "\n",
    "fig.add_trace(go.Scatter(\n",
    "    x=weekly_pattern['semana_ano'],\n",
    "    y=weekly_pattern['mean'] + weekly_pattern['std'],\n",
    "    mode='lines',\n",
    "    line=dict(color='lightblue', width=0),\n",
    "    showlegend=False\n",
    "))\n",
    "\n",
    "fig.add_trace(go.Scatter(\n",
    "    x=weekly_pattern['semana_ano'],\n",
    "    y=weekly_pattern['mean'] - weekly_pattern['std'],\n",
    "    mode='lines',\n",
    "    line=dict(color='lightblue', width=0),\n",
    "    fill='tonexty',\n",
    "    name='±1 Desvio Padrão'\n",
    "))\n",
    "\n",
    "fig.update_layout(\n",
    "    title='Padrão Sazonal por Semana do Ano',\n",
    "    xaxis_title='Semana do Ano',\n",
    "    yaxis_title='Quantidade Média',\n",
    "    height=500\n",
    ")\n",
    "fig.show()"
   ]
  },
  {
   "cell_type": "code",
   "execution_count": null,
   "metadata": {},
   "outputs": [],
   "source": [
    "# Heatmap de vendas por mês e categoria\n",
    "monthly_category = merged_data.groupby(['mes', 'categoria_produto'])['quantidade'].sum().unstack(fill_value=0)\n",
    "\n",
    "fig = px.imshow(\n",
    "    monthly_category.T,\n",
    "    labels=dict(x=\"Mês\", y=\"Categoria\", color=\"Quantidade\"),\n",
    "    title=\"Heatmap: Vendas por Mês e Categoria\",\n",
    "    aspect=\"auto\"\n",
    ")\n",
    "fig.show()"
   ]
  },
  {
   "cell_type": "markdown",
   "metadata": {},
   "source": [
    "## 4. Análise por PDV e Produtos"
   ]
  },
  {
   "cell_type": "code",
   "execution_count": null,
   "metadata": {},
   "outputs": [],
   "source": [
    "# Top PDVs por volume de vendas\n",
    "top_pdvs = merged_data.groupby('pdv')['quantidade'].sum().sort_values(ascending=False).head(20)\n",
    "\n",
    "fig = px.bar(\n",
    "    x=top_pdvs.index.astype(str),\n",
    "    y=top_pdvs.values,\n",
    "    title=\"Top 20 PDVs por Volume de Vendas\",\n",
    "    labels={'x': 'PDV', 'y': 'Quantidade Total'}\n",
    ")\n",
    "fig.update_xaxis(tickangle=45)\n",
    "fig.show()"
   ]
  },
  {
   "cell_type": "code",
   "execution_count": null,
   "metadata": {},
   "outputs": [],
   "source": [
    "# Análise de produtos mais vendidos\n",
    "top_products = merged_data.groupby('produto')['quantidade'].sum().sort_values(ascending=False).head(20)\n",
    "\n",
    "fig = px.bar(\n",
    "    x=top_products.index.astype(str),\n",
    "    y=top_products.values,\n",
    "    title=\"Top 20 Produtos por Volume de Vendas\",\n",
    "    labels={'x': 'Produto', 'y': 'Quantidade Total'}\n",
    ")\n",
    "fig.update_xaxis(tickangle=45)\n",
    "fig.show()"
   ]
  },
  {
   "cell_type": "markdown",
   "metadata": {},
   "source": [
    "## 5. Análise de Distribuições e Outliers"
   ]
  },
  {
   "cell_type": "code",
   "execution_count": null,
   "metadata": {},
   "outputs": [],
   "source": [
    "# Box plots interativos por categoria\n",
    "fig = px.box(\n",
    "    merged_data,\n",
    "    x='categoria_produto',\n",
    "    y='quantidade',\n",
    "    title=\"Distribuição de Vendas por Categoria (com Outliers)\",\n",
    "    points=\"outliers\"\n",
    ")\n",
    "fig.update_xaxis(tickangle=45)\n",
    "fig.show()"
   ]
  },
  {
   "cell_type": "code",
   "execution_count": null,
   "metadata": {},
   "outputs": [],
   "source": [
    "# Análise de outliers por tipo de PDV\n",
    "fig = px.violin(\n",
    "    merged_data,\n",
    "    x='tipo_pdv',\n",
    "    y='quantidade',\n",
    "    box=True,\n",
    "    title=\"Distribuição de Vendas por Tipo de PDV\"\n",
    ")\n",
    "fig.show()"
   ]
  },
  {
   "cell_type": "markdown",
   "metadata": {},
   "source": [
    "## 6. Análise de Correlações"
   ]
  },
  {
   "cell_type": "code",
   "execution_count": null,
   "metadata": {},
   "outputs": [],
   "source": [
    "# Preparar dados numéricos para correlação\n",
    "numeric_cols = ['quantidade', 'semana_ano', 'mes', 'dia_semana']\n",
    "correlation_data = merged_data[numeric_cols].corr()\n",
    "\n",
    "fig = px.imshow(\n",
    "    correlation_data,\n",
    "    text_auto=True,\n",
    "    aspect=\"auto\",\n",
    "    title=\"Matriz de Correlação - Variáveis Numéricas\"\n",
    ")\n",
    "fig.show()"
   ]
  },
  {
   "cell_type": "markdown",
   "metadata": {},
   "source": [
    "## 7. Análise Temporal Detalhada"
   ]
  },
  {
   "cell_type": "code",
   "execution_count": null,
   "metadata": {},
   "outputs": [],
   "source": [
    "# Série temporal com decomposição\n",
    "daily_sales = merged_data.groupby('data')['quantidade'].sum().reset_index()\n",
    "\n",
    "fig = px.line(\n",
    "    daily_sales,\n",
    "    x='data',\n",
    "    y='quantidade',\n",
    "    title=\"Evolução Temporal das Vendas - 2022\"\n",
    ")\n",
    "\n",
    "# Adicionar média móvel\n",
    "daily_sales['ma_7'] = daily_sales['quantidade'].rolling(window=7).mean()\n",
    "daily_sales['ma_30'] = daily_sales['quantidade'].rolling(window=30).mean()\n",
    "\n",
    "fig.add_trace(go.Scatter(\n",
    "    x=daily_sales['data'],\n",
    "    y=daily_sales['ma_7'],\n",
    "    mode='lines',\n",
    "    name='Média Móvel 7 dias',\n",
    "    line=dict(color='orange')\n",
    "))\n",
    "\n",
    "fig.add_trace(go.Scatter(\n",
    "    x=daily_sales['data'],\n",
    "    y=daily_sales['ma_30'],\n",
    "    mode='lines',\n",
    "    name='Média Móvel 30 dias',\n",
    "    line=dict(color='red')\n",
    "))\n",
    "\n",
    "fig.update_layout(height=500)\n",
    "fig.show()"
   ]
  },
  {
   "cell_type": "markdown",
   "metadata": {},
   "source": [
    "## 8. Insights e Conclusões"
   ]
  },
  {
   "cell_type": "code",
   "execution_count": null,
   "metadata": {},
   "outputs": [],
   "source": [
    "# Resumo estatístico\n",
    "print(\"=== RESUMO DA ANÁLISE EXPLORATÓRIA ===\")\n",
    "print(f\"\\nPeríodo analisado: {merged_data['data'].min()} a {merged_data['data'].max()}\")\n",
    "print(f\"Total de registros: {len(merged_data):,}\")\n",
    "print(f\"Número de PDVs únicos: {merged_data['pdv'].nunique():,}\")\n",
    "print(f\"Número de produtos únicos: {merged_data['produto'].nunique():,}\")\n",
    "print(f\"Número de categorias: {merged_data['categoria_produto'].nunique()}\")\n",
    "\n",
    "print(\"\\n=== ESTATÍSTICAS DE VENDAS ===\")\n",
    "print(f\"Vendas totais: {merged_data['quantidade'].sum():,}\")\n",
    "print(f\"Média diária: {merged_data['quantidade'].mean():.2f}\")\n",
    "print(f\"Mediana: {merged_data['quantidade'].median():.2f}\")\n",
    "print(f\"Desvio padrão: {merged_data['quantidade'].std():.2f}\")\n",
    "\n",
    "print(\"\\n=== TOP CATEGORIAS ===\")\n",
    "top_categories = merged_data.groupby('categoria_produto')['quantidade'].sum().sort_values(ascending=False)\n",
    "for i, (cat, sales) in enumerate(top_categories.head(5).items()):\n",
    "    print(f\"{i+1}. {cat}: {sales:,} unidades\")\n",
    "\n",
    "print(\"\\n=== INSIGHTS PRINCIPAIS ===\")\n",
    "print(\"1. Identificar padrões sazonais claros\")\n",
    "print(\"2. Variação significativa entre PDVs\")\n",
    "print(\"3. Concentração em algumas categorias\")\n",
    "print(\"4. Presença de outliers que precisam ser tratados\")\n",
    "print(\"5. Tendências temporais que podem ser modeladas\")"
   ]
  }
 ],
 "metadata": {
  "kernelspec": {
   "display_name": "Python 3",
   "language": "python",
   "name": "python3"
  },
  "language_info": {
   "codemirror_mode": {
    "name": "ipython",
    "version": 3
   },
   "file_extension": ".py",
   "mimetype": "text/x-python",
   "name": "python",
   "nbconvert_exporter": "python",
   "pygments_lexer": "ipython3",
   "version": "3.9.0"
  }
 },
 "nbformat": 4,
 "nbformat_minor": 4
}